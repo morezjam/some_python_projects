{
 "cells": [
  {
   "cell_type": "code",
   "execution_count": 6,
   "metadata": {},
   "outputs": [],
   "source": [
    "import cv2\n",
    "from datetime import datetime\n",
    "import pandas as pd\n",
    "from bokeh.plotting import figure, show, output_file"
   ]
  },
  {
   "cell_type": "code",
   "execution_count": 7,
   "metadata": {},
   "outputs": [
    {
     "ename": "KeyboardInterrupt",
     "evalue": "",
     "output_type": "error",
     "traceback": [
      "\u001b[1;31m---------------------------------------------------------------------------\u001b[0m",
      "\u001b[1;31mKeyboardInterrupt\u001b[0m                         Traceback (most recent call last)",
      "\u001b[1;32m<ipython-input-7-b0e1ed8440b3>\u001b[0m in \u001b[0;36m<module>\u001b[1;34m\u001b[0m\n\u001b[0;32m      9\u001b[0m \u001b[1;32mwhile\u001b[0m \u001b[1;32mTrue\u001b[0m\u001b[1;33m:\u001b[0m\u001b[1;33m\u001b[0m\u001b[1;33m\u001b[0m\u001b[0m\n\u001b[0;32m     10\u001b[0m \u001b[1;33m\u001b[0m\u001b[0m\n\u001b[1;32m---> 11\u001b[1;33m     \u001b[0mcheck\u001b[0m\u001b[1;33m,\u001b[0m \u001b[0mframe\u001b[0m \u001b[1;33m=\u001b[0m \u001b[0mvideo\u001b[0m\u001b[1;33m.\u001b[0m\u001b[0mread\u001b[0m\u001b[1;33m(\u001b[0m\u001b[1;33m)\u001b[0m\u001b[1;33m\u001b[0m\u001b[1;33m\u001b[0m\u001b[0m\n\u001b[0m\u001b[0;32m     12\u001b[0m     \u001b[0mstatus\u001b[0m \u001b[1;33m=\u001b[0m \u001b[1;36m0\u001b[0m\u001b[1;33m\u001b[0m\u001b[1;33m\u001b[0m\u001b[0m\n\u001b[0;32m     13\u001b[0m     \u001b[0mgray\u001b[0m \u001b[1;33m=\u001b[0m \u001b[0mcv2\u001b[0m\u001b[1;33m.\u001b[0m\u001b[0mcvtColor\u001b[0m\u001b[1;33m(\u001b[0m\u001b[0mframe\u001b[0m\u001b[1;33m,\u001b[0m \u001b[0mcv2\u001b[0m\u001b[1;33m.\u001b[0m\u001b[0mCOLOR_BGR2GRAY\u001b[0m\u001b[1;33m)\u001b[0m\u001b[1;33m\u001b[0m\u001b[1;33m\u001b[0m\u001b[0m\n",
      "\u001b[1;31mKeyboardInterrupt\u001b[0m: "
     ]
    }
   ],
   "source": [
    "video = cv2.VideoCapture(0)\n",
    "\n",
    "first_frame = None\n",
    "\n",
    "status_list = [None, None]\n",
    "times = []\n",
    "start=[]\n",
    "end = []\n",
    "while True:\n",
    "    \n",
    "    check, frame = video.read()\n",
    "    status = 0\n",
    "    gray = cv2.cvtColor(frame, cv2.COLOR_BGR2GRAY)\n",
    "    gray = cv2.GaussianBlur(gray, (15,15), 0)\n",
    "    if first_frame is None:\n",
    "        first_frame = gray\n",
    "        continue\n",
    "    \n",
    "    \n",
    "    delta_frame = cv2.absdiff(first_frame, gray)\n",
    "    thresh_frame = cv2.threshold(delta_frame, 130, 255, cv2.THRESH_BINARY)[1]\n",
    "    thresh_frame = cv2.dilate(thresh_frame, None, iterations=2)\n",
    "    \n",
    "    \n",
    "    [cnts,_] = cv2.findContours(thresh_frame.copy(), cv2.RETR_EXTERNAL, cv2.CHAIN_APPROX_SIMPLE)\n",
    "    \n",
    "    for cnt in cnts:\n",
    "        if cv2.contourArea(cnt)>10000:\n",
    "            status = 1\n",
    "            status_list.append(status)\n",
    "            (x,y,w,h) = cv2.boundingRect(cnt)\n",
    "            cv2.rectangle(frame, (x, y), (x+w, y+h), (0,255,0), 3)\n",
    "    \n",
    "    status_list.append(status)\n",
    "    status_list = status_list[-2:]\n",
    "    \n",
    "    if status_list[-2]==0 and status_list[-1]==1:\n",
    "        times.append(datetime.now())\n",
    "    if status_list[-2]==1 and status_list[-1]==0:\n",
    "        times.append(datetime.now())\n",
    "    \n",
    "    cv2.imshow(\"frame\", frame)\n",
    "    cv2.imshow(\"delta_frame\", delta_frame)\n",
    "    cv2.imshow(\"thresh_frame\", thresh_frame)\n",
    "    key = cv2.waitKey(1)\n",
    "    if key==ord('q'):\n",
    "        if status==1:\n",
    "            times.append(datetime.now())\n",
    "        break\n",
    "\n",
    "video.release()\n",
    "cv2.destroyAllWindows()\n",
    "\n",
    "df = pd.DataFrame(columns=[\"Start\", \"End\"])\n",
    "\n",
    "for i in range(0,len(times)):\n",
    "    if i%2 == 0:\n",
    "        start.append(times[i])\n",
    "    else:\n",
    "        end.append(times[i])\n",
    "\n",
    "for i in range(0,len(end)):\n",
    "    df = df.append({\"Start\": start[i], \"End\": end[i]}, ignore_index=True)\n",
    "df.to_csv(\"times.csv\")"
   ]
  },
  {
   "cell_type": "code",
   "execution_count": null,
   "metadata": {},
   "outputs": [],
   "source": [
    "df = pd.read_csv(\"times.csv\", parse_dates=[\"Start\", \"End\"])\n",
    "p = figure(width=500, height=100, x_axis_type=\"datetime\", sizing_mode=\"scale_both\")\n",
    "q = p.quad(left=df[\"Start\"], right=df[\"End\"],bottom=0, top=1, color=\"green\")\n",
    "output_file(\"motion_graph.html\")\n",
    "show(p)"
   ]
  },
  {
   "cell_type": "code",
   "execution_count": null,
   "metadata": {},
   "outputs": [],
   "source": []
  },
  {
   "cell_type": "code",
   "execution_count": null,
   "metadata": {},
   "outputs": [],
   "source": []
  }
 ],
 "metadata": {
  "kernelspec": {
   "display_name": "Python 3",
   "language": "python",
   "name": "python3"
  },
  "language_info": {
   "codemirror_mode": {
    "name": "ipython",
    "version": 3
   },
   "file_extension": ".py",
   "mimetype": "text/x-python",
   "name": "python",
   "nbconvert_exporter": "python",
   "pygments_lexer": "ipython3",
   "version": "3.8.8"
  }
 },
 "nbformat": 4,
 "nbformat_minor": 2
}
