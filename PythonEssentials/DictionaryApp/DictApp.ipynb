{
 "cells": [
  {
   "cell_type": "code",
   "execution_count": 32,
   "metadata": {},
   "outputs": [],
   "source": [
    "import json\n",
    "\n",
    "data = json.load(open(\"data.json\", \"r\"))"
   ]
  },
  {
   "cell_type": "code",
   "execution_count": 54,
   "metadata": {},
   "outputs": [
    {
     "name": "stdout",
     "output_type": "stream",
     "text": [
      "Enter the word : dogg\n",
      "Did you mean dog instead? Y/N\n",
      "n\n",
      "the entered word isn't found\n"
     ]
    }
   ],
   "source": [
    "from difflib import get_close_matches\n",
    "\n",
    "def translate(word):\n",
    "    word = word.lower()\n",
    "    if word in data:\n",
    "        return data[word]\n",
    "    elif len(get_close_matches(word, data.keys(), cutoff=0.8)) > 0:\n",
    "        ans = input(\"Did you mean %s instead? Y/N\\n\" % get_close_matches(word, data.keys(), cutoff=0.8)[0]).lower()\n",
    "        if ans.startswith('y'):\n",
    "            return data[get_close_matches(word, data.keys(), cutoff=0.8)[0]]\n",
    "        else:\n",
    "            return \"The entered word isn't found\"\n",
    "    else:\n",
    "        return \"the word %s doesn't exist. Please double check it.\" % word\n",
    "\n",
    "\n",
    "def display(df):\n",
    "    if type(df) == list:\n",
    "        for d in df:\n",
    "            print(d)\n",
    "    else:\n",
    "        print(df)\n",
    "\n",
    "if __name__==\"__main__\":\n",
    "    \n",
    "    w = input(\"Enter the word : \")\n",
    "    display(translate(w))"
   ]
  },
  {
   "cell_type": "code",
   "execution_count": null,
   "metadata": {},
   "outputs": [],
   "source": []
  },
  {
   "cell_type": "code",
   "execution_count": null,
   "metadata": {},
   "outputs": [],
   "source": []
  },
  {
   "cell_type": "code",
   "execution_count": null,
   "metadata": {},
   "outputs": [],
   "source": []
  }
 ],
 "metadata": {
  "kernelspec": {
   "display_name": "Python 3",
   "language": "python",
   "name": "python3"
  },
  "language_info": {
   "codemirror_mode": {
    "name": "ipython",
    "version": 3
   },
   "file_extension": ".py",
   "mimetype": "text/x-python",
   "name": "python",
   "nbconvert_exporter": "python",
   "pygments_lexer": "ipython3",
   "version": "3.7.3"
  }
 },
 "nbformat": 4,
 "nbformat_minor": 2
}
