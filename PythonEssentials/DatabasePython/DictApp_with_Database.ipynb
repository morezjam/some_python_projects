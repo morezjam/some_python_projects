{
 "cells": [
  {
   "cell_type": "code",
   "execution_count": 8,
   "metadata": {},
   "outputs": [],
   "source": [
    "import mysql.connector\n",
    "\n",
    "con = mysql.connector.connect(\n",
    "host = \"108.167.140.122\",\n",
    "database = \"ardit700_pm1database\",\n",
    "user = \"ardit700_student\",\n",
    "password = \"ardit700_student\")\n",
    "\n",
    "cursor = con.cursor()\n",
    "\n",
    "query = cursor.execute(\"SELECT * FROM Dictionary\")\n",
    "\n",
    "results = cursor.fetchall()\n"
   ]
  },
  {
   "cell_type": "code",
   "execution_count": 16,
   "metadata": {},
   "outputs": [
    {
     "data": {
      "text/html": [
       "<div>\n",
       "<style scoped>\n",
       "    .dataframe tbody tr th:only-of-type {\n",
       "        vertical-align: middle;\n",
       "    }\n",
       "\n",
       "    .dataframe tbody tr th {\n",
       "        vertical-align: top;\n",
       "    }\n",
       "\n",
       "    .dataframe thead th {\n",
       "        text-align: right;\n",
       "    }\n",
       "</style>\n",
       "<table border=\"1\" class=\"dataframe\">\n",
       "  <thead>\n",
       "    <tr style=\"text-align: right;\">\n",
       "      <th></th>\n",
       "      <th>Expression</th>\n",
       "      <th>Definition</th>\n",
       "    </tr>\n",
       "  </thead>\n",
       "  <tbody>\n",
       "    <tr>\n",
       "      <th>0</th>\n",
       "      <td>is part of theme</td>\n",
       "      <td>An entry in a thesaurus or dictionary that is ...</td>\n",
       "    </tr>\n",
       "    <tr>\n",
       "      <th>1</th>\n",
       "      <td>abandoned industrial site</td>\n",
       "      <td>Site that cannot be used for any purpose, bein...</td>\n",
       "    </tr>\n",
       "    <tr>\n",
       "      <th>2</th>\n",
       "      <td>abandoned vehicle</td>\n",
       "      <td>A vehicle that has been discarded in the envir...</td>\n",
       "    </tr>\n",
       "    <tr>\n",
       "      <th>3</th>\n",
       "      <td>abiotic factor</td>\n",
       "      <td>Physical, chemical and other non-living enviro...</td>\n",
       "    </tr>\n",
       "    <tr>\n",
       "      <th>4</th>\n",
       "      <td>access road</td>\n",
       "      <td>Any street or narrow stretch of paved surface ...</td>\n",
       "    </tr>\n",
       "  </tbody>\n",
       "</table>\n",
       "</div>"
      ],
      "text/plain": [
       "                  Expression  \\\n",
       "0           is part of theme   \n",
       "1  abandoned industrial site   \n",
       "2          abandoned vehicle   \n",
       "3             abiotic factor   \n",
       "4                access road   \n",
       "\n",
       "                                          Definition  \n",
       "0  An entry in a thesaurus or dictionary that is ...  \n",
       "1  Site that cannot be used for any purpose, bein...  \n",
       "2  A vehicle that has been discarded in the envir...  \n",
       "3  Physical, chemical and other non-living enviro...  \n",
       "4  Any street or narrow stretch of paved surface ...  "
      ]
     },
     "execution_count": 16,
     "metadata": {},
     "output_type": "execute_result"
    }
   ],
   "source": [
    "import pandas as pd\n",
    "\n",
    "data = pd.DataFrame(results, columns=[\"Expression\", \"Definition\"])\n",
    "\n",
    "data.head()"
   ]
  },
  {
   "cell_type": "code",
   "execution_count": 38,
   "metadata": {},
   "outputs": [
    {
     "name": "stdout",
     "output_type": "stream",
     "text": [
      "Enter the word : doug\n",
      "Did you means dough instead? [Y/N] : n\n",
      "The entered word isn't found.\n"
     ]
    }
   ],
   "source": [
    "from difflib import get_close_matches\n",
    "def translate(word):\n",
    "    word = word.lower()\n",
    "    if word in list(data.Expression):\n",
    "        return list(data.loc[ data[\"Expression\"] == word ].Definition)\n",
    "    elif len(get_close_matches(word, list(data.Expression), cutoff=0.6)) > 0:\n",
    "        ans = input(\"Did you means %s instead? [Y/N] : \" % get_close_matches(word, list(data.Expression), cutoff=0.8)[0]).lower()\n",
    "        if ans.startswith(\"y\"):\n",
    "            return list(data.loc[ data[\"Expression\"] == get_close_matches(word, list(data.Expression), cutoff=0.8)[0]].Definition)\n",
    "        else:\n",
    "            return \"The entered word isn't found.\"\n",
    "    else:\n",
    "        return \"The word doesn't exist.\"\n",
    "\n",
    "\n",
    "def display(dfn):\n",
    "    if type(dfn) == list:\n",
    "        for d in dfn:\n",
    "            print(d)\n",
    "    else:\n",
    "        print(dfn)\n",
    "        \n",
    "if __name__==\"__main__\":\n",
    "    w = input(\"Enter the word : \")\n",
    "    display(translate(w))"
   ]
  },
  {
   "cell_type": "code",
   "execution_count": 115,
   "metadata": {},
   "outputs": [],
   "source": [
    "import mysql.connector\n",
    "from difflib import get_close_matches\n",
    "word = \"dog\"\n",
    "\n",
    "con = mysql.connector.connect(\n",
    "host = \"108.167.140.122\",\n",
    "database = \"ardit700_pm1database\",\n",
    "user = \"ardit700_student\",\n",
    "password = \"ardit700_student\")\n",
    "\n",
    "cursor = con.cursor()"
   ]
  },
  {
   "cell_type": "code",
   "execution_count": 117,
   "metadata": {},
   "outputs": [
    {
     "name": "stdout",
     "output_type": "stream",
     "text": [
      "Enter the word : kickk\n",
      "Did you mean kick instead? [Y/N]\n",
      "yes\n",
      "To state complaints, discontent, displeasure, or unhappiness.\n",
      "To strike somebody or something with the foot.\n",
      "To drive or propel with the foot (e.g. a ball).\n",
      "To stop consuming (e.g. alcohol).\n",
      "To make a goal.\n",
      "A physical strike using the foot, leg, or knee.\n"
     ]
    }
   ],
   "source": [
    "def translate(word):\n",
    "    word = word.lower()\n",
    "    query = cursor.execute(\"SELECT * FROM Dictionary WHERE Expression = '{}'\".format(word))\n",
    "    result = cursor.fetchall()\n",
    "\n",
    "    exp = [ex[0] for ex in result]\n",
    "    tr = [dfn[1] for dfn in result]\n",
    "\n",
    "    if len(exp) > 0:\n",
    "        return tr\n",
    "    \n",
    "    query = cursor.execute(\"SELECT Expression FROM Dictionary\")\n",
    "    result = cursor.fetchall()\n",
    "    exs = [ex[0] for ex in result]\n",
    "    \n",
    "    if len(get_close_matches(word, exs, cutoff=0.8))>0:\n",
    "        ans = input(\"Did you mean {} instead? [Y/N]\\n\".format(get_close_matches(word, exs, cutoff=0.8)[0]))\n",
    "        \n",
    "        if ans.startswith(\"y\"):\n",
    "            query = cursor.execute(\"SELECT Definition FROM Dictionary WHERE Expression = '{}'\".format(get_close_matches(word,exs,cutoff=0.8)[0]))\n",
    "            result = cursor.fetchall()\n",
    "            return [dfn[0] for dfn in result]\n",
    "            \n",
    "        else:\n",
    "            return \"The entered word isn't found.\"\n",
    "    else:\n",
    "        return \"The word doesn't exist.\"\n",
    "\n",
    "\n",
    "def display(res):\n",
    "    if type(res) == list:\n",
    "        for r in res:\n",
    "            print(r)\n",
    "    else:\n",
    "        print(res)\n",
    "\n",
    "if __name__ == \"__main__\":\n",
    "    w = input(\"Enter the word : \")\n",
    "    display(translate(w))"
   ]
  },
  {
   "cell_type": "code",
   "execution_count": null,
   "metadata": {},
   "outputs": [],
   "source": []
  }
 ],
 "metadata": {
  "kernelspec": {
   "display_name": "Python 3",
   "language": "python",
   "name": "python3"
  },
  "language_info": {
   "codemirror_mode": {
    "name": "ipython",
    "version": 3
   },
   "file_extension": ".py",
   "mimetype": "text/x-python",
   "name": "python",
   "nbconvert_exporter": "python",
   "pygments_lexer": "ipython3",
   "version": "3.7.3"
  }
 },
 "nbformat": 4,
 "nbformat_minor": 2
}
