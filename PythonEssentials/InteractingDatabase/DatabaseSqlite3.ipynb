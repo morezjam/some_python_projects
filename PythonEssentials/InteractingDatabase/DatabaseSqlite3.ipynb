{
 "cells": [
  {
   "cell_type": "code",
   "execution_count": 16,
   "metadata": {},
   "outputs": [],
   "source": [
    "import sqlite3"
   ]
  },
  {
   "cell_type": "code",
   "execution_count": 22,
   "metadata": {},
   "outputs": [],
   "source": [
    "con = sqlite3.connect(\"test.db\") # make a database named 'test.db'\n",
    "\n",
    "cursor = con.cursor()\n",
    "\n",
    "cursor.execute(\"CREATE TABLE IF NOT EXISTS store (item TEXT, quantity INTEGER, price REAL)\")\n",
    "\n",
    "con.commit()\n",
    "con.close()"
   ]
  },
  {
   "cell_type": "code",
   "execution_count": 21,
   "metadata": {},
   "outputs": [],
   "source": [
    "def insert(item, quantity, price):\n",
    "    con = sqlite3.connect(\"test.db\")\n",
    "    \n",
    "    cursor = con.cursor()\n",
    "    \n",
    "    query = cursor.execute(\"INSERT INTO store VALUES(?,?,?)\",(item,quantity,price))\n",
    "    \n",
    "    con.commit()\n",
    "    con.close()\n"
   ]
  },
  {
   "cell_type": "code",
   "execution_count": 26,
   "metadata": {},
   "outputs": [],
   "source": [
    "def show():\n",
    "    con = sqlite3.connect('test.db')\n",
    "\n",
    "    cursor = con.cursor()\n",
    "\n",
    "    query = cursor.execute(\"SELECT * FROM store\")\n",
    "\n",
    "    result = cursor.fetchall()\n",
    "\n",
    "    cursor.close()\n",
    "\n",
    "    return result"
   ]
  },
  {
   "cell_type": "code",
   "execution_count": 27,
   "metadata": {},
   "outputs": [
    {
     "data": {
      "text/plain": [
       "[('Marshmellow Pack', 3, 4.0), ('Tea Cup', 3, 4.0)]"
      ]
     },
     "execution_count": 27,
     "metadata": {},
     "output_type": "execute_result"
    }
   ],
   "source": [
    "insert(\"Tea Cup\", 3, 4)\n",
    "show()"
   ]
  },
  {
   "cell_type": "code",
   "execution_count": 28,
   "metadata": {},
   "outputs": [],
   "source": [
    "def delete(item):\n",
    "    con = sqlite3.connect(\"test.db\")\n",
    "    \n",
    "    cursor = con.cursor()\n",
    "    \n",
    "    query = cursor.execute(\"DELETE FROM store WHERE item=?\", (item,))\n",
    "    \n",
    "    con.commit()\n",
    "    con.close()"
   ]
  },
  {
   "cell_type": "code",
   "execution_count": 29,
   "metadata": {},
   "outputs": [],
   "source": [
    "def update(quantity,price, item):\n",
    "    con = sqlite3.connect(\"test.db\")\n",
    "    \n",
    "    cursor = con.cursor()\n",
    "    \n",
    "    query = cursor.execute(\"UPDATE store SET quantity=?, price=? WHERE item=?\", (quantity, price, item))\n",
    "    \n",
    "    con.commit()\n",
    "    con.close()"
   ]
  },
  {
   "cell_type": "code",
   "execution_count": 30,
   "metadata": {},
   "outputs": [
    {
     "name": "stdout",
     "output_type": "stream",
     "text": [
      "[('Marshmellow Pack', 1, 7.0)]\n"
     ]
    }
   ],
   "source": [
    "delete(\"Tea Cup\")\n",
    "update(1,7,\"Marshmellow Pack\")\n",
    "print(show())"
   ]
  },
  {
   "cell_type": "code",
   "execution_count": null,
   "metadata": {},
   "outputs": [],
   "source": []
  }
 ],
 "metadata": {
  "kernelspec": {
   "display_name": "Python 3",
   "language": "python",
   "name": "python3"
  },
  "language_info": {
   "codemirror_mode": {
    "name": "ipython",
    "version": 3
   },
   "file_extension": ".py",
   "mimetype": "text/x-python",
   "name": "python",
   "nbconvert_exporter": "python",
   "pygments_lexer": "ipython3",
   "version": "3.7.3"
  }
 },
 "nbformat": 4,
 "nbformat_minor": 2
}
